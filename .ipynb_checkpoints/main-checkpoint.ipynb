{
 "cells": [
  {
   "cell_type": "markdown",
   "metadata": {},
   "source": [
    "### Importa as bibliotecas a serem usadas"
   ]
  },
  {
   "cell_type": "code",
   "execution_count": 7,
   "metadata": {},
   "outputs": [],
   "source": [
    "from pathlib import Path\n",
    "import pandas as pd\n",
    "import numpy as np\n",
    "import xarray as xr\n"
   ]
  },
  {
   "cell_type": "markdown",
   "metadata": {},
   "source": [
    "### Define caminho onde os dados .VEC estao salvos e cria uma pasta Dados_csv, onde amarzenara os dados gerados pelo script"
   ]
  },
  {
   "cell_type": "code",
   "execution_count": 3,
   "metadata": {},
   "outputs": [],
   "source": [
    "caminho = Path('dados/tidi/')\n",
    "arqs = sorted([str(i) for i in caminho.glob('**/*.VEC')])\n",
    "arquivos_csv = Path('dados/tidi/dados_csv')\n",
    "arquivos_csv.mkdir(exist_ok=True)"
   ]
  },
  {
   "cell_type": "markdown",
   "metadata": {},
   "source": [
    "### Loop para cada arquivo .VEC\n",
    "### df.to_csv salva os dados"
   ]
  },
  {
   "cell_type": "code",
   "execution_count": 8,
   "metadata": {},
   "outputs": [
    {
     "ename": "ValueError",
     "evalue": "unrecognized engine scipy must be one of: ['store']",
     "output_type": "error",
     "traceback": [
      "\u001b[1;31m---------------------------------------------------------------------------\u001b[0m",
      "\u001b[1;31mValueError\u001b[0m                                Traceback (most recent call last)",
      "Cell \u001b[1;32mIn[8], line 3\u001b[0m\n\u001b[0;32m      1\u001b[0m \u001b[39mfor\u001b[39;00m arquivo \u001b[39min\u001b[39;00m arqs:\n\u001b[0;32m      2\u001b[0m     \u001b[39m# comando para ler arquivo no formato netcdf\u001b[39;00m\n\u001b[1;32m----> 3\u001b[0m     df\u001b[39m=\u001b[39mxr\u001b[39m.\u001b[39;49mopen_dataset(arquivo, engine\u001b[39m=\u001b[39;49m\u001b[39m'\u001b[39;49m\u001b[39mscipy\u001b[39;49m\u001b[39m'\u001b[39;49m)\n\u001b[0;32m      4\u001b[0m     df\u001b[39m=\u001b[39m df\u001b[39m.\u001b[39mto_dataframe()\n\u001b[0;32m      5\u001b[0m     \u001b[39m#selecionando variaveis\u001b[39;00m\n",
      "File \u001b[1;32mc:\\users\\kdemo\\documents\\freelas\\skiymet-tidi-plot\\venv\\lib\\site-packages\\xarray\\backends\\api.py:526\u001b[0m, in \u001b[0;36mopen_dataset\u001b[1;34m(filename_or_obj, engine, chunks, cache, decode_cf, mask_and_scale, decode_times, decode_timedelta, use_cftime, concat_characters, decode_coords, drop_variables, inline_array, backend_kwargs, **kwargs)\u001b[0m\n\u001b[0;32m    523\u001b[0m \u001b[39mif\u001b[39;00m engine \u001b[39mis\u001b[39;00m \u001b[39mNone\u001b[39;00m:\n\u001b[0;32m    524\u001b[0m     engine \u001b[39m=\u001b[39m plugins\u001b[39m.\u001b[39mguess_engine(filename_or_obj)\n\u001b[1;32m--> 526\u001b[0m backend \u001b[39m=\u001b[39m plugins\u001b[39m.\u001b[39;49mget_backend(engine)\n\u001b[0;32m    528\u001b[0m decoders \u001b[39m=\u001b[39m _resolve_decoders_kwargs(\n\u001b[0;32m    529\u001b[0m     decode_cf,\n\u001b[0;32m    530\u001b[0m     open_backend_dataset_parameters\u001b[39m=\u001b[39mbackend\u001b[39m.\u001b[39mopen_dataset_parameters,\n\u001b[1;32m   (...)\u001b[0m\n\u001b[0;32m    536\u001b[0m     decode_coords\u001b[39m=\u001b[39mdecode_coords,\n\u001b[0;32m    537\u001b[0m )\n\u001b[0;32m    539\u001b[0m overwrite_encoded_chunks \u001b[39m=\u001b[39m kwargs\u001b[39m.\u001b[39mpop(\u001b[39m\"\u001b[39m\u001b[39moverwrite_encoded_chunks\u001b[39m\u001b[39m\"\u001b[39m, \u001b[39mNone\u001b[39;00m)\n",
      "File \u001b[1;32mc:\\users\\kdemo\\documents\\freelas\\skiymet-tidi-plot\\venv\\lib\\site-packages\\xarray\\backends\\plugins.py:185\u001b[0m, in \u001b[0;36mget_backend\u001b[1;34m(engine)\u001b[0m\n\u001b[0;32m    183\u001b[0m     engines \u001b[39m=\u001b[39m list_engines()\n\u001b[0;32m    184\u001b[0m     \u001b[39mif\u001b[39;00m engine \u001b[39mnot\u001b[39;00m \u001b[39min\u001b[39;00m engines:\n\u001b[1;32m--> 185\u001b[0m         \u001b[39mraise\u001b[39;00m \u001b[39mValueError\u001b[39;00m(\n\u001b[0;32m    186\u001b[0m             \u001b[39mf\u001b[39m\u001b[39m\"\u001b[39m\u001b[39munrecognized engine \u001b[39m\u001b[39m{\u001b[39;00mengine\u001b[39m}\u001b[39;00m\u001b[39m must be one of: \u001b[39m\u001b[39m{\u001b[39;00m\u001b[39mlist\u001b[39m(engines)\u001b[39m}\u001b[39;00m\u001b[39m\"\u001b[39m\n\u001b[0;32m    187\u001b[0m         )\n\u001b[0;32m    188\u001b[0m     backend \u001b[39m=\u001b[39m engines[engine]\n\u001b[0;32m    189\u001b[0m \u001b[39melif\u001b[39;00m \u001b[39misinstance\u001b[39m(engine, \u001b[39mtype\u001b[39m) \u001b[39mand\u001b[39;00m \u001b[39missubclass\u001b[39m(engine, BackendEntrypoint):\n",
      "\u001b[1;31mValueError\u001b[0m: unrecognized engine scipy must be one of: ['store']"
     ]
    }
   ],
   "source": [
    "for arquivo in arqs:\n",
    "    # comando para ler arquivo no formato netcdf\n",
    "    df=xr.open_dataset(arquivo, engine='scipy')\n",
    "    df= df.to_dataframe()\n",
    "    #selecionando variaveis\n",
    "    df2=df[['ascending','alt_retrieved','ut_date','ut_time','lat','lon','data_ok','u','var_u','v','var_v']]\n",
    "    #selecionando latitude de São João do Cariri\n",
    "    df2=df2.loc[df['lat'] >= -17]\n",
    "    df2=df2.loc[df['lat'] <= 3]\n",
    "    #selecionando longitude de São João do Cariri\n",
    "    df2=df2.loc[df['lon'] >= 314]\n",
    "    df2=df2.loc[df['lon'] <= 334]\n",
    "    #Selecionando o intervalo de altitude\n",
    "    df2=df2.loc[df['alt_retrieved'] >= 70]\n",
    "    df2=df2.loc[df['alt_retrieved'] <= 100]\n",
    "    df.ut_time\n",
    "    time2=df.ut_time\n",
    "    #convertendo o tempo para unidade de hora\n",
    "    time2=time2/1e3/6e1/6e1\n",
    "    df2['UT_time']=time2\n",
    "\n",
    "    df2=df2[['ascending','alt_retrieved','ut_date','UT_time','lat','lon','data_ok','u','var_u','v','var_v']]\n",
    "    df2\n",
    "    # comando para salvar os arquivos\n",
    "    #your_name= nome para salvar os arquivos\n",
    "    df2.to_csv(f'dados/tidi/dados_csv/{str(arquivo)[16:-4]}.csv', sep=';')"
   ]
  },
  {
   "cell_type": "code",
   "execution_count": null,
   "metadata": {},
   "outputs": [],
   "source": []
  }
 ],
 "metadata": {
  "kernelspec": {
   "display_name": "Python 3 (ipykernel)",
   "language": "python",
   "name": "python3"
  },
  "language_info": {
   "codemirror_mode": {
    "name": "ipython",
    "version": 3
   },
   "file_extension": ".py",
   "mimetype": "text/x-python",
   "name": "python",
   "nbconvert_exporter": "python",
   "pygments_lexer": "ipython3",
   "version": "3.8.5"
  },
  "orig_nbformat": 4,
  "vscode": {
   "interpreter": {
    "hash": "ed41af0eb22775476c165bbbda4e69020f169e23183fea68a50a7bced91f3b2e"
   }
  }
 },
 "nbformat": 4,
 "nbformat_minor": 2
}
